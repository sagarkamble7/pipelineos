{
 "cells": [
  {
   "cell_type": "code",
   "execution_count": 1,
   "id": "ffa75dba",
   "metadata": {},
   "outputs": [
    {
     "name": "stderr",
     "output_type": "stream",
     "text": [
      "/home/sagar/pipeline OS/.venv/lib/python3.10/site-packages/tqdm/auto.py:21: TqdmWarning: IProgress not found. Please update jupyter and ipywidgets. See https://ipywidgets.readthedocs.io/en/stable/user_install.html\\n",
      "  from .autonotebook import tqdm as notebook_tqdm\\n"
     ]
    }
   ],
   "source": [
    "from qdrant_client import QdrantClient\\n",
    "from qdrant_client.models import PointStruct, Distance, VectorParams, ScoredPoint, Filter, FieldCondition, MatchValue\\n",
    "from sentence_transformers import SentenceTransformer, util\\n",
    "import pandas as pd\\n",
    "import hashlib\\n",
    "from datetime import datetime, timezone\\n",
    "import os\\n",
    "import uuid\\n",
    "import numpy as np\\n",
    "from bson import ObjectId\\n",
    "import torch\\n",
    "import numpy as np\\n",
    "from scipy.stats import pearsonr\\n",
    "from scipy.stats import spearmanr\\n",
    "import score_logic"
   ]
  },
  {
   "cell_type": "markdown",
   "id": "afe83496",
   "metadata": {},
   "source": [
    "#### Connections"
   ]
  },
  {
   "cell_type": "code",
   "execution_count": 2,
   "id": "642a1059",
   "metadata": {},
   "outputs": [],
   "source": [
    "from pymongo import MongoClient\\n",
    "\\n",
    "# mongo conection\\n",
    "\\n",
    "mongo_uri = \"mongodb://localhost:27017/\" #compass\\n",
    "mongo_client = MongoClient(mongo_uri)\\n",
    "db = mongo_client['pipelineos']\\n",
    "\\n",
    "# loading the mongodb into variables:\\n",
    "\\n",
    "icp_profiles = db[\\"icp_profiles\\"]\\n",
    "discovered_companies = db[\\"discovered_companies\\"]\\n",
    "scored_companies = db['scored_companies']"
   ]
  },
  {
   "cell_type": "markdown",
   "id": "35d0b9f3",
   "metadata": {},
   "source": [
    "#### Qdrant connections"
   ]
  },
  {
   "cell_type": "code",
   "execution_count": 3,
   "id": "b69b0b19",
   "metadata": {},
   "outputs": [],
   "source": [
    "# qdrant connection via https\\n",
    "\\n",
    "from qdrant_client.models import VectorParams, Distance\\n",
    "qdrant = QdrantClient(\\n",
    "    host=\\"localhost\\",\\n",
    "    port=6333)\\n",
    "#using qdrants https method as used 6333 port and gRPC is :\\n",
    "# qdrant = QdrantClient(\\n",
    "#     host=\\"localhost\\", \\n",
    "#     port=6334, \\n",
    "#     grpc=True\\n",
    "# )"
   ]
  },
  {
   "cell_type": "markdown",
   "id": "3017c1bb",
   "metadata": {},
   "source": [
    "#### Run the Qdrant"
   ]
  },
  {
   "cell_type": "code",
   "execution_count": 4,
   "id": "cc600910",
   "metadata": {},
   "outputs": [],
   "source": [
    "# quadrant setup via docker:\\n",
    "# run this in ubuntu terminal:\\n",
    "\\n",
    "# docker pull qdrant/qdrant\\n",
    "# docker run -p 6333:6333 -p 6334:6334 qdrant/qdrant"
   ]
  },
  {
   "cell_type": "markdown",
   "id": "4d25c3ef",
   "metadata": {},
   "source": [
    "#### Models"
   ]
  },
  {
   "cell_type": "code",
   "execution_count": 5,
   "id": "214b1c8b",
   "metadata": {},
   "outputs": [],
   "source": [
    "# # vectorize setup:\\n",
    "\\n",
    "# model = SentenceTransformer('sentence-transformers/all-MiniLM-L6-v2') #384-dim vector\\n",
    "# model = SentenceTransformer(\\"BAAI/bge-small-en\\")  # 384 D\\n",
    "model = SentenceTransformer(\\"all-MiniLM-L12-v2\\") # 384 D\\n",
    "# model = SentenceTransformer(\\"all-mpnet-base-v2\\") # 768 d\\n",
    "# model = SentenceTransformer(\\"all-distilroberta-v1\\") # 768\\n",
    "# model = SentenceTransformer(\\"multi-qa-MiniLM-L6-cos-v1\\") # 384 d"
   ]
  },
  {
   "cell_type": "markdown",
   "id": "81305cee",
   "metadata": {},
   "source": [
    "#### To fetch the latest ICP from the MongoDB"
   ]
  },
  {
   "cell_type": "code",
   "execution_count": 6,
   "id": "9fcf1e36",
   "metadata": {},
   "outputs": [],
   "source": [
    "# Aggregation pipeline to get the latest active ICP\\n",
    "pipeline = [\\n",
    "    {\\"$match\\": {\\"active\\": True}},\\n",
    "    {\\"$addFields\\": {\\n",
    "        \\"effective_time\\": {\\n",
    "            \\"$cond\\": {\\n",
    "                \\"if\\": {\\"$gt\\": [\\"$updated_at\\", \\"$created_at\\"]},\\n",
    "                \\"then\\": \\"$updated_at\\",\\n",
    "                \\"else\\": \\"$created_at\\"\\n",
    "            }\\n",
    "        }\\n",
    "    }},\\n",
    "    {\\"$sort\\": {\\"effective_time\\": -1}},\\n",
    "    {\\"$limit\\": 1}\\n",
    "]\\n",
    "\\n",
    "latest_icp = list(icp_profiles.aggregate(pipeline))\\n",
    "if latest_icp:\\n",
    "    latest_icp = latest_icp[0]\\n",
    "    print(\\"Latest active ICP:\\")\\n",
    "    print(latest_icp)\\n",
    "else:\\n",
    "    print(\\"No active ICP found.\\")"
   ]
  },
  {
   "cell_type": "code",
   "execution_count": null,
   "id": "b27a92a4",
   "metadata": {},
   "outputs": [],
   "source": [
    "latest_icp"
   ]
  },
  {
   "cell_type": "code",
   "execution_count": null,
   "id": "50901ab6",
   "metadata": {},
   "outputs": [],
   "source": [
    "for i in discovered_companies.find({}):\\n",
    "    print(i)"
   ]
  },
  {
   "cell_type": "markdown",
   "id": "a04317eb",
   "metadata": {},
   "source": [
    "#### Delta Ware Filter"
   ]
  },
  {
   "cell_type": "code",
   "execution_count": null,
   "id": "6c94e718",
   "metadata": {},
   "outputs": [],
   "source": [
    "companies_to_score = []\\n",
    "\\n",
    "if latest_icp:\\n",
    "    icp_id = str(latest_icp[\\"_id\\"])\\n",
    "    icp_version = latest_icp.get(\\"version\\", 1)\\n",
    "\\n",
    "    for company in discovered_companies.find({}):\\n",
    "        company_id = company[\\"_id\\"]\\n",
    "        last_scraped = company[\\"last_scraped\\"]\\n",
    "\\n",
    "        score_doc = scored_companies.find_one({\n",
    "            \\"company_id\\": company_id,\\n",
    "            \\"icp_id\\": icp_id\\n",
    "        })\\n",
    "\\n",
    "        if not score_doc:\\n",
    "            companies_to_score.append({\\"company\\": company, \\"icp\\": latest_icp})\\n",
    "            continue\\n",
    "\\n",
    "        last_scored = score_doc.get(\\"last_scored\\")\\n",
    "        if last_scored is None or last_scored > last_scraped:\\n",
    "            companies_to_score.append({\\"company\\": company, \\"icp\\": latest_icp})\\n",
    "            continue\\n",
    "\\n",
    "        scored_version = score_doc.get(\\"icp_version\\")\\n",
    "        if scored_version != icp_version:\\n",
    "            companies_to_score.append({\\"company\\": company, \\"icp\\": latest_icp})\\n",
    "            continue\\n",
    "\\n",
    "print(f\\"Total <company, ICP> pairs to score: {len(companies_to_score)}\\")"
   ]
  },
  {
   "cell_type": "markdown",
   "id": "cdc369b8",
   "metadata": {},
   "source": [
    "### Collections Creation in Qdrant"
   ]
  },
  {
   "cell_type": "code",
   "execution_count": null,
   "id": "d95d04cc",
   "metadata": {},
   "outputs": [],
   "source": [
    "if not qdrant.collection_exists(\\"icp_vectors\\"):\\n",
    "    qdrant.create_collection(\\n",
    "        collection_name=\\"icp_vectors\\",\\n",
    "        vectors_config=VectorParams(size=384, distance=Distance.COSINE)  # 384 for MiniLM\\n",
    "    )\\n",
    "\\n",
    "if not qdrant.collection_exists(\\"company_vectors\\"):\\n",
    "    qdrant.create_collection(\\n",
    "        collection_name=\\"company_vectors\\",\\n",
    "        vectors_config=VectorParams(size=384, distance=Distance.COSINE)\\n",
    "    )"
   ]
  },
  {
   "cell_type": "markdown",
   "id": "2506967b",
   "metadata": {},
   "source": [
    "#### Company and ICP Vectorization"
   ]
  },
  {
   "cell_type": "code",
   "execution_count": null,
   "id": "4cc04458",
   "metadata": {},
   "outputs": [],
   "source": [
    "def normalize_list(value):\\n",
    "    if isinstance(value, str):\\n",
    "        return [value.lower()]\\n",
    "    if isinstance(value, list):\\n",
    "        return list({v.strip().lower() for v in value if isinstance(v, str)})\\n",
    "    return []\\n",
    "\\n",
    "def prepare_vector_text(company):\\n",
    "    parts = []\\n",
    "    parts += normalize_list(company.get(\\"industries\\"))\\n",
    "    parts += normalize_list(company.get(\\"tech_stack\\"))\\n",
    "    country = company.get(\\"hq_location\\", {}).get(\\"country\\", \\"\\").lower()\\n",
    "    if country:\\n",
    "        parts.append(country)\\n",
    "    return \\" \\".join(parts).strip()\\n",
    "\\n",
    "points = []\\n",
    "for pair in companies_to_score:\\n",
    "    company = pair[\\"company\\"]\\n",
    "    domain = company.get(\\"domain\\")\\n",
    "    if not domain:\\n",
    "        continue\\n",
    "\\n",
    "    vector_text = prepare_vector_text(company)\\n",
    "    if not vector_text:\\n",
    "        continue\\n",
    "\\n",
    "    embedding = model.encode(vector_text)\\n",
    "    embedding = np.array(embedding, dtype=np.float32).tolist()\\n",
    "    point_id = str(uuid.uuid5(uuid.NAMESPACE_DNS, f\\"company:{domain}\\"_))\\n",
    "\\n",
    "    point = PointStruct(\\n",
    "        id=point_id,\\n",
    "        vector=embedding,\\n",
    "        payload={\\n",
    "            \\"company_id\\": str(company.get(\\"_id\\")),\\n",
    "            \\"icp_id\\": str(company.get(\\"icp_id\\", \\"\\")),\\n",
    "            \\"industry\\": normalize_list(company.get(\\"industries\\")),\\n",
    "            \\"location\\": company.get(\\"hq_location\\", {}).get(\\"country\\", \\"\\").lower(),\\n",
    "            \\"tech_stack\\": normalize_list(company.get(\\"tech_stack\\"))\\n",
    "        }\\n",
    "    )\\n",
    "    points.append(point)\\n",
    "\\n",
    "if points:\\n",
    "    qdrant.upsert(collection_name=\\"company_vectors\\", points=points)\\n",
    "    print(f\\"Upserted {len(points)} companies to Qdrant.\\")\\n",
    "\\n",
    "icp_points = []\\n",
    "if latest_icp:\\n",
    "    icp_id = str(latest_icp[\\"_id\\"])\\n",
    "    filters = latest_icp.get(\\"filters\\", {}\\n",
    "    text_parts = []\\n",
    "    industry = normalize_list(filters.get(\\"industry\\", []))\\n",
    "    locations = normalize_list(filters.get(\\"locations\\", []))\\n",
    "    tech_stack = normalize_list(filters.get(\\"tech_stack\\", []))\\n",
    "    text_parts += industry + locations + tech_stack\\n",
    "    vector_text = \\" \\".join(text_parts).strip()\\n",
    "    if vector_text:\\n",
    "        embedding = model.encode(vector_text)\\n",
    "        embedding = np.array(embedding, dtype=np.float32).tolist()\\n",
    "        point_id = str(uuid.uuid5(uuid.NAMESPACE_DNS, f\\"icp:{icp_id}\\"_))\\n",
    "        point = PointStruct(\\n",
    "            id=point_id,\\n",
    "            vector=embedding,\\n",
    "            payload={\\n",
    "                \\"icp_id\\": icp_id,\\n",
    "                \\"industry\\": industry,\\n",
    "                \\"location\\": locations,\\n",
    "                \\"tech_stack\\": tech_stack\\n",
    "            }\\n",
    "        )\\n",
    "        icp_points.append(point)\\n",
    "\\n",
    "if icp_points:\\n",
    "    qdrant.upsert(collection_name=\\"icp_vectors\\", points=icp_points)\\n",
    "    print(f\\"Upserted {len(icp_points)} ICP profiles to Qdrant.\\")"
   ]
  },
  {
   "cell_type": "markdown",
   "id": "a293b3f7_markdown",
   "metadata": {},
   "source": [
    "## Scoring"
   ]
  },
  {
   "cell_type": "code",
   "execution_count": null,
   "id": "a293b3f7",
   "metadata": {},
   "outputs": [],
   "source": [
    "# --- 1. Get latest active ICP ---\\n",
    "if not latest_icp:\\n",
    "    print(\\"❌ No active ICP found.\\")\\n",
    "else:\\n",
    "    icp_id = str(latest_icp[\\"_id\\"])\\n",
    "\\n",
    "    # --- 2. Get ICP vector from Qdrant ---\\n",
    "    icp_vector_resp = qdrant.retrieve(\\n",
    "        collection_name=\\"icp_vectors\\",\\n",
    "        ids=[str(uuid.uuid5(uuid.NAMESPACE_DNS, f\\"icp:{icp_id}\\"))],\\n",
    "        with_vectors=True\\n",
    "    )\\n",
    "    if not icp_vector_resp or not icp_vector_resp[0].vector:\\n",
    "        print(\\"❌ ICP vector not found.\\")\\n",
    "    else:\\n",
    "        icp_embedding = icp_vector_resp[0].vector\\n",
    "\\n",
    "        # --- 3. Get all company vectors from Qdrant ---\\n",
    "        search_result = qdrant.query_points(\\n",
    "            collection_name=\\"company_vectors\\",\\n",
    "            query=icp_embedding,\\n",
    "            limit=10000,\\n",
    "            with_payload=True,\\n",
    "            with_vectors=True\\n",
    "        )\\n",
    "        print(f\\"Total points returned from Qdrant: {len(search_result.points)}\\")\\n",
    "\\n",
    "        # --- 4. Score companies using the logic from score_logic.py ---\\n",
    "        scored_results = score_logic.score_companies(\\n",
    "            search_result=search_result,\\n",
    "            icp=latest_icp,\\n",
    "            icp_embedding=icp_embedding,\\n",
    "            discovered_companies=discovered_companies,\\n",
    "            scored_companies=scored_companies\\n",
    "        )\\n",
    "\\n",
    "        # --- 5. Print Top Results ---\\n",
    "        print(f\\"📈 Total companies scored: {len(scored_results)}\\")\\n",
    "        sorted_results = sorted(scored_results, key=lambda x: x[1], reverse=True)\\n",
    "\\n",
    "        print(\\"\\n🏆 TOP RESULTS (Weighted Average Method):\\")\\n",
    "        for i, (domain, score) in enumerate(sorted_results[:10], 1):\\n",
    "            print(f\\"{i:2d}. {domain:20s} → {score:6.2f}%\\")"
   ]
  }
 ],
 "metadata": {
  "kernelspec": {
   "display_name": ".venv",
   "language": "python",
   "name": "python3"
  },
  "language_info": {
   "codemirror_mode": {
    "name": "ipython",
    "version": 3
   },
   "file_extension": ".py",
   "mimetype": "text/x-python",
   "name": "python",
   "nbconvert_exporter": "python",
   "pygments_lexer": "ipython3",
   "version": "3.10.12"
  }
 },
 "nbformat": 4,
 "nbformat_minor": 5
}
